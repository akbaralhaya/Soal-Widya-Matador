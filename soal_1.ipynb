{
  "nbformat": 4,
  "nbformat_minor": 0,
  "metadata": {
    "colab": {
      "provenance": []
    },
    "kernelspec": {
      "name": "python3",
      "display_name": "Python 3"
    },
    "language_info": {
      "name": "python"
    }
  },
  "cells": [
    {
      "cell_type": "markdown",
      "source": [
        "# Notes :\n",
        "- Mohon running program dari atas setiap pertama kali penggunaan. Shortcutnya : Toolbar -> Runtime -> Run all"
      ],
      "metadata": {
        "id": "ISPDKWz-loiT"
      }
    },
    {
      "cell_type": "code",
      "execution_count": 4,
      "metadata": {
        "id": "8k6eU3ZsQWfD"
      },
      "outputs": [],
      "source": [
        "import unittest"
      ]
    },
    {
      "cell_type": "markdown",
      "source": [
        "# Contoh penggunaan notebook untuk test"
      ],
      "metadata": {
        "id": "WUW04X7RQYNq"
      }
    },
    {
      "cell_type": "markdown",
      "source": [
        "## Contoh Pengerjaan soal dan programnya"
      ],
      "metadata": {
        "id": "1YS51oy5Q_GM"
      }
    },
    {
      "cell_type": "code",
      "source": [
        "def add(a,b):\n",
        "    '''\n",
        "    BUATLAH OPERASI PENJUMLAHAN\n",
        "    hasil maksimal 2 dibelakang koma\n",
        "\n",
        "    hasil = a + b\n",
        "\n",
        "    CONTOH 1:\n",
        "    hasil = add(1,2)\n",
        "    print(hasil)\n",
        "\n",
        "    Output Terminal:\n",
        "    3\n",
        "\n",
        "    CONTOH 2:\n",
        "    hasil = add(1,2.111)\n",
        "    print(hasil)\n",
        "\n",
        "    Output Terminal:\n",
        "    3.11\n",
        "    '''\n",
        "\n",
        "    #-----code-----#\n",
        "    hasil = round(a+b,2)\n",
        "    return hasil"
      ],
      "metadata": {
        "id": "T9yp7JWFQ8Fu"
      },
      "execution_count": 5,
      "outputs": []
    },
    {
      "cell_type": "markdown",
      "source": [
        "## Test case untuk soal"
      ],
      "metadata": {
        "id": "0S1wFCP_S4O5"
      }
    },
    {
      "cell_type": "code",
      "source": [
        "class TestContohSoal(unittest.TestCase):\n",
        "    def test_add(self):\n",
        "        hasil = add(1,2)\n",
        "        self.assertEqual(hasil,3)\n",
        "        hasil = add(1.5,2)\n",
        "        self.assertEqual(hasil,3.1)\n",
        "        hasil = add(1.123,3.21)\n",
        "        self.assertEqual(hasil,4.33)"
      ],
      "metadata": {
        "id": "r0A9lzrLQrEN"
      },
      "execution_count": 13,
      "outputs": []
    },
    {
      "cell_type": "markdown",
      "source": [
        "## Hasil testing\n",
        "Hasil harus mengeluarkan status \"ok\"\n",
        "Jika terdapat hasil \"FAIL\" berarti pengerjaan soal tidak sesuai dengan soal yang diberikan\\\n",
        "Example:\n",
        "```\n",
        "test_add (__main__.TestContohSoal) ... ok\n",
        "```"
      ],
      "metadata": {
        "id": "t1DscO3ZS96E"
      }
    },
    {
      "cell_type": "code",
      "source": [
        "unittest.main(argv=[''], defaultTest='TestContohSoal', verbosity=2, exit=False)"
      ],
      "metadata": {
        "colab": {
          "base_uri": "https://localhost:8080/"
        },
        "id": "sEdMzFJDS0MC",
        "outputId": "e6db9fcb-28d0-4e28-cd7f-daab938099c2"
      },
      "execution_count": 7,
      "outputs": [
        {
          "output_type": "stream",
          "name": "stderr",
          "text": [
            "test_add (__main__.TestContohSoal.test_add) ... ok\n",
            "\n",
            "----------------------------------------------------------------------\n",
            "Ran 1 test in 0.015s\n",
            "\n",
            "OK\n"
          ]
        },
        {
          "output_type": "execute_result",
          "data": {
            "text/plain": [
              "<unittest.main.TestProgram at 0x7fcc52362f90>"
            ]
          },
          "metadata": {},
          "execution_count": 7
        }
      ]
    },
    {
      "cell_type": "markdown",
      "source": [
        "# Soal Assesment"
      ],
      "metadata": {
        "id": "XRtno49at4IY"
      }
    },
    {
      "cell_type": "markdown",
      "source": [
        "## Soal dan program"
      ],
      "metadata": {
        "id": "uXivufH6t7By"
      }
    },
    {
      "cell_type": "code",
      "source": [
        "def add(a:float,b:float)->float:\n",
        "    '''\n",
        "    BUATLAH OPERASI PENJUMLAHAN\n",
        "    hasil maksimal 2 dibelakang koma\n",
        "\n",
        "    hasil = a + b\n",
        "\n",
        "    CONTOH 1:\n",
        "    hasil = add(1,2)\n",
        "    print(hasil)\n",
        "\n",
        "    Output Terminal:\n",
        "    3\n",
        "\n",
        "    CONTOH 2:\n",
        "    hasil = add(1,2.111)\n",
        "    print(hasil)\n",
        "\n",
        "    Output Terminal:\n",
        "    3.11\n",
        "    '''\n",
        "\n",
        "    #-----code-----#\n",
        "    hasil = round(a + b, 2)  # Menjumlahkan dan membatasi 2 angka di belakang koma\n",
        "    return hasil\n",
        "\n",
        "\n",
        "def sub(a:float,b:float)->float:\n",
        "    '''\n",
        "    BUATLAH OPERASI PENGURANGAN\n",
        "    hasil maksimal 2 dibelakang koma\n",
        "\n",
        "    hasil = a - b\n",
        "\n",
        "    CONTOH 1:\n",
        "    hasil = sub(1,2)\n",
        "    print(hasil)\n",
        "\n",
        "    Output Terminal:\n",
        "    -1\n",
        "\n",
        "    CONTOH 2:\n",
        "    hasil = sub(1,2.1111)\n",
        "    print(hasil)\n",
        "\n",
        "    Output Terminal:\n",
        "    -1.11\n",
        "    '''\n",
        "\n",
        "    #-----code-----#\n",
        "    hasil = round(a-b, 2)   # Menjumlahkan hasil pengurangan\n",
        "    return hasil\n",
        "\n",
        "\n",
        "\n",
        "def multiplication(a:float,b:float)->float:\n",
        "    '''\n",
        "    BUATLAH OPERASI MULTIPLICATION\n",
        "\n",
        "    hasil 2 angka dibelakang koma\n",
        "    hasil = a*b\n",
        "\n",
        "    CONTOH 1:\n",
        "    hasil = multiplication(1,2)\n",
        "    print(hasil)\n",
        "\n",
        "    Output = 2\n",
        "\n",
        "    CONTOH 2:\n",
        "    hasil = multiplication(1.1,1.1)\n",
        "    print(hasil)\n",
        "\n",
        "    Output Terminal:\n",
        "    1.21\n",
        "    '''\n",
        "\n",
        "\n",
        "    #-----code-----#\n",
        "    hasil = round (a * b,2) # Multiplication a dan b\n",
        "    return hasil\n",
        "\n",
        "\n",
        "\n",
        "def division(a:float,b:float)->float:\n",
        "    '''\n",
        "    BUATLAH OPERASI PEMBAGIAN\n",
        "\n",
        "    hasil 2 angka dibelakang koma\n",
        "    hasil = a/b\n",
        "\n",
        "    CONTOH:\n",
        "    hasil = division(2,3)\n",
        "    print(hasil)\n",
        "\n",
        "    Output Terminal:\n",
        "    0.67\n",
        "\n",
        "    Jika terdapat error ketika pembagi adalah angka 0 lakukan:\n",
        "    Throw ValueError dengan message \"Error division number\"\n",
        "    MISAL KETIKA:\n",
        "    division(2,0)\n",
        "\n",
        "    Output Terminal:\n",
        "    ValueError: Error division number\n",
        "    '''\n",
        "\n",
        "    #-----code-----#\n",
        "    hasil = round(a/b, 2)  # Menghitung hasil pembagian\n",
        "    return hasil\n",
        "\n",
        "    if b == 0:    # Jika pembagi adalah 0, maka akan ada pesan \"Error division number\".\n",
        "      raise ValueError(\"Error division number\")\n",
        "\n",
        "\n",
        "\n",
        "\n",
        "def count_capital_letters(data:str)->int:\n",
        "    '''\n",
        "    MENGHITUNG JUMLAH HURUF KAPITAL DARI DATA\n",
        "\n",
        "    CONTOH:\n",
        "    hasil = count_capital_letters(\"ABCabc\")\n",
        "    print(hasil)\n",
        "\n",
        "    Output Terminal:\n",
        "    3\n",
        "\n",
        "    Jika terdapat spasi didalam data lakukan:\n",
        "    Throw ValueError dengan message \"Wrong input\"\n",
        "    MISAL KETIKA:\n",
        "    count_capital_letters(\"a     s  \")\n",
        "\n",
        "    Output Terminal:\n",
        "    ValueError: Wrong input\n",
        "    '''\n",
        "\n",
        "    #-----code-----#\n",
        "    hitung_kapital = sum(1 for char in data if char.isupper()) # Menghitung jumlah huruf kapital\n",
        "    return hitung_kapital\n",
        "\n",
        "    if ' ' in data: # Jika terdapat spasi dalam data maka ada pesan \"Wrong input\"\n",
        "        raise ValueError(\"Wrong input\")\n",
        "\n",
        "\n",
        "\n",
        "def reverse_sentence(data:str)->str:\n",
        "    '''\n",
        "    MELAKUKAN REVERSE SENTENCE DARI DATA\n",
        "\n",
        "    CONTOH 1:\n",
        "    hasil = reverse_sentence(\"1234a5c6\")\n",
        "    print(hasil)\n",
        "\n",
        "    Output Terminal:\n",
        "    6c5a4321\n",
        "\n",
        "    Jika terdapat spasi, harus dihilangkan\n",
        "\n",
        "    CONTOH 2:\n",
        "    hasil = reverse_sentence(\"123456 asd      123456\")\n",
        "    print(hasil)\n",
        "\n",
        "    Output Terminal:\n",
        "    654321dsa654321\n",
        "    '''\n",
        "\n",
        "    #-----code-----#\n",
        "    return data[::-1] # Reverse Sentence Data\n",
        "    data = data.replace(\" \", \"\") # Menghilangkan spasi dari data\n",
        "\n",
        "\n",
        "\n",
        "def uwu_text_converter(data:str)->str:\n",
        "    '''\n",
        "    KONVERSI TEKS MENJADI IMOET UwU\n",
        "\n",
        "    Untuk mengubah teks menjadi imut UwU, terdapat beberapa kondisi yang harus terpenuhi:\n",
        "\n",
        "    1. Mengubah huruf 'r' menjadi 'w' termasuk huruf kapital (R -> W & r -> w)\n",
        "    2. Mengubah huruf 'l' menjadi 'w' termasuk huruf kapital (L -> W & l -> w)\n",
        "    3. Mengubah huruf 's' menjadi 'c' termasuk huruf kapital (S -> C & s -> c)\n",
        "    4. Jika ada huruf 'm' atau 'n' yang diikuti dengan 'o' termasuk huruf kapital, maka masukkan huruf y di antaranya.\n",
        "\n",
        "    CONTOH 1:\n",
        "    hasil=uwu_text_converter(\"Semoga hari lancar sesuai rencana\")\n",
        "    print(hasil)\n",
        "\n",
        "    Output Terminal:\n",
        "    Cemyoga hawi ini wancaw cecuai wencana\n",
        "\n",
        "    CONTOH 2:\n",
        "    hasil=uwu_text_converter(\"Lamborghini mobil tercepat nomor satu di dunia\")\n",
        "    print(hasil)\n",
        "\n",
        "    Output Terminal:\n",
        "    Wambowghini mobil tewcepat nyomow catu di dunia\n",
        "\n",
        "    CONTOH 3:\n",
        "    hasil=uwu_text_converter(\"Sakura menolong naruto dari madara\")\n",
        "\n",
        "    Output Terminal:\n",
        "    Cakuwa menyolong nawuto dawi madawa\n",
        "    '''\n",
        "\n",
        "    #-----code-----#\n",
        "    data = data.replace('r', 'w').replace('l', 'w').replace('R', 'W').replace('L', 'W')  # Mengubah huruf 'r' menjadi 'w' dan 'l' menjadi 'w'baik huruf kecil maupun kapital\n",
        "    data = data.replace('s', 'c').replace('S', 'C') #Mengubah huruf 's' menjadi 'c' baik huruf kecil maupun kapital\n",
        "    data = data.replace('mo', 'my').replace('no', 'ny').replace('Mo', 'My').replace('No', 'Ny')   # Mengubah 'm' dan 'n' yang diikuti oleh 'o' menjadi 'y' di tengahnya\n",
        "    return data\n",
        "\n",
        "def check_palindrome(data:str)->bool:\n",
        "    '''\n",
        "    MELAKUKAN DETEKSI PALINDROME DARI DATA\n",
        "\n",
        "    jika terdapat pola kalimat yang dibalik hasilnya sama maka hasilnya True\n",
        "    jika sebaliknya maka salah\n",
        "\n",
        "    CONTOH 1:\n",
        "    hasil=check_palindrome(\"uwu\")\n",
        "    print(hasil)\n",
        "\n",
        "    Output Terminal:\n",
        "    True\n",
        "\n",
        "    CONTOH 2:\n",
        "    hasil=check_palindrome(\"pull up if i pull up\")\n",
        "    print(hasil)\n",
        "\n",
        "    Output Terminal:\n",
        "    True\n",
        "\n",
        "    CONTOH 3:\n",
        "    hasil=check_palindrome(\"coding\")\n",
        "\n",
        "    Output Terminal:\n",
        "    False\n",
        "\n",
        "    CONTOH 4:\n",
        "    # Perhatikan pada soal contoh 4 ini.\n",
        "    # Terdapat palindrome \"awa\" sehingga hasilnya adalah True.\n",
        "    # Segment dari kalimat yang terdapat palindrome menghasilkan return True.\n",
        "    hasil=check_palindrome(\"123awa335446  \")\n",
        "\n",
        "    Output Terminal:\n",
        "    True\n",
        "\n",
        "    Jika panjang data dibawah dari 3\n",
        "    maka Throw ValueError(\"Wrong Input\")\n",
        "    MISAL KETIKA:\n",
        "    check_palindrome(\"as\")\n",
        "    check_palindrome(\"1\")\n",
        "\n",
        "    Output Terminal:\n",
        "    ValueError: Wrong Input\n",
        "    '''\n",
        "\n",
        "    #-----code-----#\n"
      ],
      "metadata": {
        "id": "51T8TeDfSbek"
      },
      "execution_count": 34,
      "outputs": []
    },
    {
      "cell_type": "markdown",
      "source": [
        "## Test case untuk soal"
      ],
      "metadata": {
        "id": "cZ5DW1cduKiJ"
      }
    },
    {
      "cell_type": "code",
      "source": [
        "class TestSoal(unittest.TestCase):\n",
        "    def test_add(self):\n",
        "        res = add(1,5)\n",
        "        self.assertEqual(res,3)\n",
        "        res = add(1,1.1)\n",
        "        self.assertEqual(res,2.1)\n",
        "        res = add(1,-2)\n",
        "        self.assertEqual(res,-1)\n",
        "        res = add(1,2.111)\n",
        "        self.assertEqual(res,3.11)\n",
        "\n",
        "    def test_sub(self):\n",
        "        res = sub(1,2)\n",
        "        self.assertEqual(res,-1)\n",
        "        res = sub(2,1)\n",
        "        self.assertEqual(res,1)\n",
        "        res = sub(3,1.1)\n",
        "        self.assertEqual(res,1.9)\n",
        "        res = sub(1,2.1111)\n",
        "        self.assertEqual(res,-1.11)\n",
        "\n",
        "    def test_multiplication(self):\n",
        "        res = multiplication(1,2)\n",
        "        self.assertEqual(res,2)\n",
        "        res = multiplication(2,1)\n",
        "        self.assertEqual(res,2)\n",
        "        res = multiplication(3,1.1)\n",
        "        self.assertEqual(res,3.3)\n",
        "        res = multiplication(1.1,1.1)\n",
        "        self.assertEqual(res,1.21)\n",
        "\n",
        "    def test_division(self):\n",
        "        res = division(1,2)\n",
        "        self.assertEqual(res,0.5)\n",
        "        res = division(2,2)\n",
        "        self.assertEqual(res,1)\n",
        "        res = division(2,3)\n",
        "        self.assertEqual(res,0.67)\n",
        "        with self.assertRaises(ValueError) as err:\n",
        "            division(2,0)\n",
        "        self.assertEqual(str(err.exception),\"Error division number\")\n",
        "\n",
        "    def test_count_capital_letters(self):\n",
        "        res = count_capital_letters(\"ABCabc\")\n",
        "        self.assertEqual(res,3)\n",
        "        with self.assertRaises(ValueError) as err:\n",
        "            count_capital_letters(\"asd_qwe_ASD_      zxcASDASDQWqweazAAA\")\n",
        "        self.assertEqual(str(err.exception),\"Wrong input\")\n",
        "        res = count_capital_letters(\"asd@!#@#$%$#$%qweQWEQWE\")\n",
        "        self.assertEqual(res,6)\n",
        "\n",
        "    def test_reverese_sentence(self):\n",
        "        res = reverse_sentence(\"test123\")\n",
        "        self.assertEqual(res,\"321tset\")\n",
        "        res = reverse_sentence(\"test 123\")\n",
        "        self.assertEqual(res,\"321tset\")\n",
        "        res = reverse_sentence(\"t   wqeqw    asdest 123\")\n",
        "        self.assertEqual(res,\"321tsedsawqeqwt\")\n",
        "\n",
        "    def test_uwu_text_converter(self):\n",
        "        res=uwu_text_converter(\"Molen pisang adalah kesukaanku\")\n",
        "        self.assertEqual(res,\"Myowen picang adawah kecukaanku\")\n",
        "        res=uwu_text_converter(\"Sasuke memiliki susanoo yang keren\")\n",
        "        self.assertEqual(res,\"Cacuke memiwiki cucanyoo yang kewen\")\n",
        "        res=uwu_text_converter(\"Orang afrika lebih tinggi dari orang asia\")\n",
        "        self.assertEqual(res,\"Owang afwika webih tinggi dawi owang acia\")\n",
        "\n",
        "    def test_check_palindrome(self):\n",
        "        res=check_palindrome(\"abcdef\")\n",
        "        self.assertFalse(res)\n",
        "        res=check_palindrome(\"asd123321qwe\")\n",
        "        self.assertTrue(res)\n",
        "        res=check_palindrome(\"pull up if i pull up\")\n",
        "        self.assertTrue(res)\n",
        "        with self.assertRaises(ValueError) as err:\n",
        "            check_palindrome(\"12\")\n",
        "        self.assertEqual(str(err.exception),\"Wrong Input\")"
      ],
      "metadata": {
        "id": "n4WsCIU3uYoR"
      },
      "execution_count": 36,
      "outputs": []
    },
    {
      "cell_type": "markdown",
      "source": [
        "## Hasil testing\n",
        "Hasil harus mengeluarkan status \"ok\"\n",
        "Jika terdapat hasil \"FAIL\" berarti pengerjaan soal tidak sesuai dengan soal yang diberikan."
      ],
      "metadata": {
        "id": "MhBdSK2zbR8r"
      }
    },
    {
      "cell_type": "code",
      "source": [
        "unittest.main(argv=[''], defaultTest='TestSoal', verbosity=2, exit=False)"
      ],
      "metadata": {
        "colab": {
          "base_uri": "https://localhost:8080/"
        },
        "id": "VuKnR9-YbUSf",
        "outputId": "95c2ca97-8939-4f7f-9fc7-9f75f1c111fe"
      },
      "execution_count": 35,
      "outputs": [
        {
          "output_type": "stream",
          "name": "stderr",
          "text": [
            "test_add (__main__.TestSoal.test_add) ... FAIL\n",
            "test_check_palindrome (__main__.TestSoal.test_check_palindrome) ... FAIL\n",
            "test_count_capital_letters (__main__.TestSoal.test_count_capital_letters) ... FAIL\n",
            "test_division (__main__.TestSoal.test_division) ... ERROR\n",
            "test_multiplication (__main__.TestSoal.test_multiplication) ... ok\n",
            "test_reverese_sentence (__main__.TestSoal.test_reverese_sentence) ... FAIL\n",
            "test_sub (__main__.TestSoal.test_sub) ... ok\n",
            "test_uwu_text_converter (__main__.TestSoal.test_uwu_text_converter) ... FAIL\n",
            "\n",
            "======================================================================\n",
            "ERROR: test_division (__main__.TestSoal.test_division)\n",
            "----------------------------------------------------------------------\n",
            "Traceback (most recent call last):\n",
            "  File \"<ipython-input-30-b754918cefdc>\", line 40, in test_division\n",
            "    division(2,0)\n",
            "  File \"<ipython-input-34-a9f4266a95ca>\", line 108, in division\n",
            "    hasil = round(a/b, 2)  # Menghitung hasil pembagian\n",
            "                  ~^~\n",
            "ZeroDivisionError: division by zero\n",
            "\n",
            "======================================================================\n",
            "FAIL: test_add (__main__.TestSoal.test_add)\n",
            "----------------------------------------------------------------------\n",
            "Traceback (most recent call last):\n",
            "  File \"<ipython-input-30-b754918cefdc>\", line 4, in test_add\n",
            "    self.assertEqual(res,3)\n",
            "AssertionError: 6 != 3\n",
            "\n",
            "======================================================================\n",
            "FAIL: test_check_palindrome (__main__.TestSoal.test_check_palindrome)\n",
            "----------------------------------------------------------------------\n",
            "Traceback (most recent call last):\n",
            "  File \"<ipython-input-30-b754918cefdc>\", line 72, in test_check_palindrome\n",
            "    self.assertTrue(res)\n",
            "AssertionError: None is not true\n",
            "\n",
            "======================================================================\n",
            "FAIL: test_count_capital_letters (__main__.TestSoal.test_count_capital_letters)\n",
            "----------------------------------------------------------------------\n",
            "Traceback (most recent call last):\n",
            "  File \"<ipython-input-30-b754918cefdc>\", line 46, in test_count_capital_letters\n",
            "    with self.assertRaises(ValueError) as err:\n",
            "AssertionError: ValueError not raised\n",
            "\n",
            "======================================================================\n",
            "FAIL: test_reverese_sentence (__main__.TestSoal.test_reverese_sentence)\n",
            "----------------------------------------------------------------------\n",
            "Traceback (most recent call last):\n",
            "  File \"<ipython-input-30-b754918cefdc>\", line 56, in test_reverese_sentence\n",
            "    self.assertEqual(res,\"321tset\")\n",
            "AssertionError: '321 tset' != '321tset'\n",
            "- 321 tset\n",
            "?    -\n",
            "+ 321tset\n",
            "\n",
            "\n",
            "======================================================================\n",
            "FAIL: test_uwu_text_converter (__main__.TestSoal.test_uwu_text_converter)\n",
            "----------------------------------------------------------------------\n",
            "Traceback (most recent call last):\n",
            "  File \"<ipython-input-30-b754918cefdc>\", line 62, in test_uwu_text_converter\n",
            "    self.assertEqual(res,\"Myowen picang adawah kecukaanku\")\n",
            "AssertionError: 'Mywen picang adawah kecukaanku' != 'Myowen picang adawah kecukaanku'\n",
            "- Mywen picang adawah kecukaanku\n",
            "+ Myowen picang adawah kecukaanku\n",
            "?   +\n",
            "\n",
            "\n",
            "----------------------------------------------------------------------\n",
            "Ran 8 tests in 0.035s\n",
            "\n",
            "FAILED (failures=5, errors=1)\n"
          ]
        },
        {
          "output_type": "execute_result",
          "data": {
            "text/plain": [
              "<unittest.main.TestProgram at 0x7fcc35e6e3d0>"
            ]
          },
          "metadata": {},
          "execution_count": 35
        }
      ]
    }
  ]
}